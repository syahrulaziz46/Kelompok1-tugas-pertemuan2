{
 "cells": [
  {
   "cell_type": "markdown",
   "id": "f7fc1e39-fbe2-44a8-8474-9ceb8822bd9c",
   "metadata": {},
   "source": [
    "Algorithm 3.1"
   ]
  },
  {
   "cell_type": "code",
   "execution_count": 5,
   "id": "5aebb9a5-406b-4653-b7ef-b07073300764",
   "metadata": {},
   "outputs": [
    {
     "data": {
      "text/plain": [
       "[10, 8, 12, 6, 15]"
      ]
     },
     "execution_count": 5,
     "metadata": {},
     "output_type": "execute_result"
    }
   ],
   "source": [
    ">>> list1 =[ 100 , 200 ,300 , 400]\n",
    ">>> list2 =[ 1,'Pemrograman Komputer',12000.00]\n",
    ">>> list =[ 10 ,8 , 12 , 6 , 15]\n",
    ">>> list"
   ]
  },
  {
   "cell_type": "code",
   "execution_count": 6,
   "id": "aec1cbf0-0b75-46aa-a9e5-e1de5e35cd25",
   "metadata": {},
   "outputs": [
    {
     "data": {
      "text/plain": [
       "[10, 8, 12, 6, 15]"
      ]
     },
     "execution_count": 6,
     "metadata": {},
     "output_type": "execute_result"
    }
   ],
   "source": [
    ">>> len(list)#Menghitung banyaknya elemen didalam list \n",
    "5\n",
    ">>> li =[ 10 , 8 , 12 , 6 , 15 ]\n",
    ">>> li\n"
   ]
  },
  {
   "cell_type": "code",
   "execution_count": 7,
   "id": "6e9f6ff2-4684-4314-bbb8-7a0c12bce551",
   "metadata": {},
   "outputs": [
    {
     "data": {
      "text/plain": [
       "(10, 8, 12, 6, 15)"
      ]
     },
     "execution_count": 7,
     "metadata": {},
     "output_type": "execute_result"
    }
   ],
   "source": [
    ">>> li [0] , li [1] , li [2] , li [3] , li [4]"
   ]
  },
  {
   "cell_type": "code",
   "execution_count": 16,
   "id": "f3bf72bc-7f79-4897-a9a1-1be2e7da788b",
   "metadata": {},
   "outputs": [
    {
     "data": {
      "text/plain": [
       "(10, 8, 12, 6, 15)"
      ]
     },
     "execution_count": 16,
     "metadata": {},
     "output_type": "execute_result"
    }
   ],
   "source": [
    ">>> li [-5],li [-4],li [-3],li [-2],li [-1]"
   ]
  },
  {
   "cell_type": "code",
   "execution_count": 17,
   "id": "d3f099f9-de29-4569-8e34-ac7e55a56f47",
   "metadata": {},
   "outputs": [
    {
     "data": {
      "text/plain": [
       "[10, 8, 12, 6, 15, 20, 25, 100, 200, 300]"
      ]
     },
     "execution_count": 17,
     "metadata": {},
     "output_type": "execute_result"
    }
   ],
   "source": [
    ">>> li .append(20)#menambahkan elemen dalam list\n",
    ">>> li .append(25)\n",
    ">>> li =[ 10 , 8 , 12 , 6 , 15 , 20 , 25]\n",
    ">>> li .extend ([100 , 200 , 300])#menambahkan list dalam sebuah list\n",
    ">>> li"
   ]
  },
  {
   "cell_type": "code",
   "execution_count": 18,
   "id": "ef165af5-727b-4f52-a5cc-f111da9159cd",
   "metadata": {},
   "outputs": [
    {
     "data": {
      "text/plain": [
       "[99, 77, 12, 6, 15, 20, 25, 100, 200, 300]"
      ]
     },
     "execution_count": 18,
     "metadata": {},
     "output_type": "execute_result"
    }
   ],
   "source": [
    ">>> li [0]= 99\n",
    ">>> li [1]= 77\n",
    ">>> li"
   ]
  },
  {
   "cell_type": "code",
   "execution_count": 19,
   "id": "54c44f44-a1b8-4abf-948d-8fa5d419f36f",
   "metadata": {},
   "outputs": [
    {
     "data": {
      "text/plain": [
       "[77, 12, 6, 20, 25, 100, 200]"
      ]
     },
     "execution_count": 19,
     "metadata": {},
     "output_type": "execute_result"
    }
   ],
   "source": [
    ">>> li .remove( 99 )#menghapus elemen di dalam list\n",
    ">>> li .remove( 300 )\n",
    ">>> li .remove( 15 )\n",
    ">>> li"
   ]
  },
  {
   "cell_type": "code",
   "execution_count": 20,
   "id": "39c1d7aa-064a-4b5a-a920-1e3289c29d01",
   "metadata": {},
   "outputs": [
    {
     "data": {
      "text/plain": [
       "[]"
      ]
     },
     "execution_count": 20,
     "metadata": {},
     "output_type": "execute_result"
    }
   ],
   "source": [
    ">>> li .clear ()#Menghapus Semua elemen didalam list\n",
    ">>> li"
   ]
  },
  {
   "cell_type": "raw",
   "id": "4037dc38-6d92-4c8c-a473-6fe6f115f433",
   "metadata": {},
   "source": [
    "\n",
    "Algorithm 3.2"
   ]
  },
  {
   "cell_type": "code",
   "execution_count": 21,
   "id": "7b0ca68c-edf8-484f-a195-378884a08753",
   "metadata": {},
   "outputs": [
    {
     "data": {
      "text/plain": [
       "{'A': 4, 'B': 3, 'C': 2, 'D': 1, 'E': 0}"
      ]
     },
     "execution_count": 21,
     "metadata": {},
     "output_type": "execute_result"
    }
   ],
   "source": [
    ">>> na ={'A':4 , 'B':3 , 'C':2, 'D':1, 'E':0}\n",
    ">>> na"
   ]
  },
  {
   "cell_type": "code",
   "execution_count": 22,
   "id": "efa7eade-8935-4833-99a2-d10fe8a47fac",
   "metadata": {},
   "outputs": [
    {
     "data": {
      "text/plain": [
       "dict_keys(['A', 'B', 'C', 'D', 'E'])"
      ]
     },
     "execution_count": 22,
     "metadata": {},
     "output_type": "execute_result"
    }
   ],
   "source": [
    ">>> na.keys( ) #Menampilkan Kata Kunci (key) dalam Dictionary"
   ]
  },
  {
   "cell_type": "code",
   "execution_count": 23,
   "id": "b4ee4ccf-0011-425d-a6e7-1b2ac63e9d8c",
   "metadata": {},
   "outputs": [
    {
     "data": {
      "text/plain": [
       "dict_values([4, 3, 2, 1, 0])"
      ]
     },
     "execution_count": 23,
     "metadata": {},
     "output_type": "execute_result"
    }
   ],
   "source": [
    ">>> na.values( ) #Menampilkan Kata value dalam Dictionary"
   ]
  },
  {
   "cell_type": "code",
   "execution_count": 24,
   "id": "68a9f7f2-1140-4883-ba54-50350ea2064c",
   "metadata": {},
   "outputs": [
    {
     "data": {
      "text/plain": [
       "4"
      ]
     },
     "execution_count": 24,
     "metadata": {},
     "output_type": "execute_result"
    }
   ],
   "source": [
    ">>> na['A']"
   ]
  },
  {
   "cell_type": "code",
   "execution_count": 25,
   "id": "d59593c5-0123-428b-9af9-534c12e36d3c",
   "metadata": {},
   "outputs": [
    {
     "data": {
      "text/plain": [
       "3"
      ]
     },
     "execution_count": 25,
     "metadata": {},
     "output_type": "execute_result"
    }
   ],
   "source": [
    ">>> na['B']"
   ]
  },
  {
   "cell_type": "code",
   "execution_count": 26,
   "id": "5e476543-e205-4210-a0ef-f5ebfcd28c18",
   "metadata": {},
   "outputs": [
    {
     "data": {
      "text/plain": [
       "2"
      ]
     },
     "execution_count": 26,
     "metadata": {},
     "output_type": "execute_result"
    }
   ],
   "source": [
    ">>> na['C']"
   ]
  },
  {
   "cell_type": "code",
   "execution_count": 27,
   "id": "9d84e5ff-b22b-4548-833b-47d3803ddeb0",
   "metadata": {},
   "outputs": [
    {
     "data": {
      "text/plain": [
       "'kucing'"
      ]
     },
     "execution_count": 27,
     "metadata": {},
     "output_type": "execute_result"
    }
   ],
   "source": [
    ">>> kamus = {'mouse':'tikus', 'cat':'kucing'}\n",
    ">>> kamus ['cat']"
   ]
  },
  {
   "cell_type": "code",
   "execution_count": 28,
   "id": "8fed57fc-428d-4b06-81ee-6feb60d8fb7c",
   "metadata": {},
   "outputs": [
    {
     "data": {
      "text/plain": [
       "dict_keys(['mouse', 'cat'])"
      ]
     },
     "execution_count": 28,
     "metadata": {},
     "output_type": "execute_result"
    }
   ],
   "source": [
    ">>> kamus.keys ()\n"
   ]
  },
  {
   "cell_type": "code",
   "execution_count": 29,
   "id": "041bce74-9635-46f3-b2ff-0a7d97d50a10",
   "metadata": {},
   "outputs": [
    {
     "data": {
      "text/plain": [
       "dict_values(['tikus', 'kucing'])"
      ]
     },
     "execution_count": 29,
     "metadata": {},
     "output_type": "execute_result"
    }
   ],
   "source": [
    ">>> kamus.values ()"
   ]
  },
  {
   "cell_type": "code",
   "execution_count": null,
   "id": "e85f41d6-b53e-440f-8028-ca17f58f32e2",
   "metadata": {},
   "outputs": [],
   "source": [
    "\n",
    "ALGORITMA 3.3"
   ]
  },
  {
   "cell_type": "code",
   "execution_count": 30,
   "id": "af0bcdf1-3908-4952-a7ae-9dcfa7802632",
   "metadata": {},
   "outputs": [
    {
     "data": {
      "text/plain": [
       "10"
      ]
     },
     "execution_count": 30,
     "metadata": {},
     "output_type": "execute_result"
    }
   ],
   "source": [
    ">>> t = ( 10 , 20 , 30 )\n",
    ">>> t [0]"
   ]
  },
  {
   "cell_type": "code",
   "execution_count": 31,
   "id": "3f278b9b-f70c-4f3d-bab7-77f46fe8e062",
   "metadata": {},
   "outputs": [
    {
     "data": {
      "text/plain": [
       "20"
      ]
     },
     "execution_count": 31,
     "metadata": {},
     "output_type": "execute_result"
    }
   ],
   "source": [
    ">>> t[1]"
   ]
  },
  {
   "cell_type": "code",
   "execution_count": 32,
   "id": "ff7fbe84-205d-474b-9138-1409993c7e50",
   "metadata": {},
   "outputs": [
    {
     "data": {
      "text/plain": [
       "30"
      ]
     },
     "execution_count": 32,
     "metadata": {},
     "output_type": "execute_result"
    }
   ],
   "source": [
    ">>> t[2]"
   ]
  },
  {
   "cell_type": "code",
   "execution_count": 37,
   "id": "9cd44527-b31a-4b4c-8c32-8a85718e82cf",
   "metadata": {},
   "outputs": [
    {
     "data": {
      "text/plain": [
       "(10, 20, 30)"
      ]
     },
     "execution_count": 37,
     "metadata": {},
     "output_type": "execute_result"
    }
   ],
   "source": [
    ">>> t[-3], t[-2], t[-1]"
   ]
  },
  {
   "cell_type": "code",
   "execution_count": 38,
   "id": "415c09bd-52ed-4cb2-ba4e-383720b39ab8",
   "metadata": {},
   "outputs": [
    {
     "data": {
      "text/plain": [
       "3"
      ]
     },
     "execution_count": 38,
     "metadata": {},
     "output_type": "execute_result"
    }
   ],
   "source": [
    ">>> len(t) #Menghitung banyaknya elemen didalam Tuple"
   ]
  },
  {
   "cell_type": "markdown",
   "id": "9e2db936-86bb-4322-9cd3-7e5cfad130e8",
   "metadata": {},
   "source": [
    "\n",
    "Teorema 3.4"
   ]
  },
  {
   "cell_type": "code",
   "execution_count": 39,
   "id": "53744de5-6203-41aa-bab3-efdbc32d178c",
   "metadata": {},
   "outputs": [
    {
     "data": {
      "text/plain": [
       "{10, 20, 30}"
      ]
     },
     "execution_count": 39,
     "metadata": {},
     "output_type": "execute_result"
    }
   ],
   "source": [
    ">>> s=set([ 10 , 10 , 20 , 30 , 30 , 30 ])\n",
    ">>> s"
   ]
  },
  {
   "cell_type": "code",
   "execution_count": 40,
   "id": "a7d4c874-c827-499f-80fc-ebc689dc392f",
   "metadata": {},
   "outputs": [
    {
     "data": {
      "text/plain": [
       "3"
      ]
     },
     "execution_count": 40,
     "metadata": {},
     "output_type": "execute_result"
    }
   ],
   "source": [
    ">>> len( s )"
   ]
  },
  {
   "cell_type": "code",
   "execution_count": 41,
   "id": "2a7cc6fa-cb75-4213-9fa8-077beb9082d7",
   "metadata": {},
   "outputs": [
    {
     "data": {
      "text/plain": [
       "{10, 20, 30, 60}"
      ]
     },
     "execution_count": 41,
     "metadata": {},
     "output_type": "execute_result"
    }
   ],
   "source": [
    ">>> s.add( 60 ) #Menambahkan anggota himpunan ( set)\n",
    ">>> s\n"
   ]
  },
  {
   "cell_type": "code",
   "execution_count": 42,
   "id": "46516eb4-3ac0-46e2-b10a-059956f4b087",
   "metadata": {},
   "outputs": [
    {
     "data": {
      "text/plain": [
       "4"
      ]
     },
     "execution_count": 42,
     "metadata": {},
     "output_type": "execute_result"
    }
   ],
   "source": [
    ">>> len( s )"
   ]
  },
  {
   "cell_type": "code",
   "execution_count": null,
   "id": "efa014cb-e255-4d8c-8aa5-72621840d1f8",
   "metadata": {},
   "outputs": [],
   "source": []
  }
 ],
 "metadata": {
  "kernelspec": {
   "display_name": "Python 3 (ipykernel)",
   "language": "python",
   "name": "python3"
  },
  "language_info": {
   "codemirror_mode": {
    "name": "ipython",
    "version": 3
   },
   "file_extension": ".py",
   "mimetype": "text/x-python",
   "name": "python",
   "nbconvert_exporter": "python",
   "pygments_lexer": "ipython3",
   "version": "3.10.2"
  }
 },
 "nbformat": 4,
 "nbformat_minor": 5
}
