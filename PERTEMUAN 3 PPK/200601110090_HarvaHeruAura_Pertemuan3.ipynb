{
 "cells": [
  {
   "cell_type": "code",
   "execution_count": 1,
   "id": "69bd8d6e-ffbd-415f-ab56-bec17aebf352",
   "metadata": {},
   "outputs": [
    {
     "data": {
      "text/plain": [
       "[10, 8, 12, 6, 15]"
      ]
     },
     "execution_count": 1,
     "metadata": {},
     "output_type": "execute_result"
    }
   ],
   "source": [
    "list1=[100,200,300,400]\n",
    "list2=[1,'Pemrograman Komputer',12000.00]\n",
    "list=[10,8,12,6,15]\n",
    "list"
   ]
  },
  {
   "cell_type": "code",
   "execution_count": 2,
   "id": "83596aa1-e01b-4eff-b103-98e0443a2554",
   "metadata": {},
   "outputs": [
    {
     "data": {
      "text/plain": [
       "5"
      ]
     },
     "execution_count": 2,
     "metadata": {},
     "output_type": "execute_result"
    }
   ],
   "source": [
    "len(list)#Menghitung banyaknya elemen didalam list"
   ]
  },
  {
   "cell_type": "code",
   "execution_count": 3,
   "id": "252937b3-ef3c-46c8-8643-97c1b152fc2c",
   "metadata": {},
   "outputs": [
    {
     "data": {
      "text/plain": [
       "[10, 8, 12, 6, 15]"
      ]
     },
     "execution_count": 3,
     "metadata": {},
     "output_type": "execute_result"
    }
   ],
   "source": [
    "li=[10,8,12,6,15]\n",
    "li"
   ]
  },
  {
   "cell_type": "code",
   "execution_count": 4,
   "id": "b27fa642-00c7-4378-b039-1bb7b6d02f60",
   "metadata": {},
   "outputs": [
    {
     "data": {
      "text/plain": [
       "(10, 8, 12, 6, 15)"
      ]
     },
     "execution_count": 4,
     "metadata": {},
     "output_type": "execute_result"
    }
   ],
   "source": [
    "li[0],li[1],li[2],li[3],li[4]"
   ]
  },
  {
   "cell_type": "code",
   "execution_count": 5,
   "id": "18ab0df9-8b92-4a22-bc54-dfa8cfab158a",
   "metadata": {},
   "outputs": [
    {
     "data": {
      "text/plain": [
       "(10, 8, 12, 6, 15)"
      ]
     },
     "execution_count": 5,
     "metadata": {},
     "output_type": "execute_result"
    }
   ],
   "source": [
    "li[-5],li[-4],li[-3],li[-2],li[-1]"
   ]
  },
  {
   "cell_type": "code",
   "execution_count": 9,
   "id": "36845d59-35c6-4e49-8963-22911e2fad4d",
   "metadata": {},
   "outputs": [
    {
     "data": {
      "text/plain": [
       "[10, 8, 12, 6, 15, 20, 25, 100, 200, 300]"
      ]
     },
     "execution_count": 9,
     "metadata": {},
     "output_type": "execute_result"
    }
   ],
   "source": [
    "li.append(20)#menambahkan elemen di dalam list\n",
    "li.append(25)\n",
    "li=[10, 8, 12, 6, 15, 20, 25]\n",
    "li.extend([100,200,300])#menambahkan list dalam sebuah list\n",
    "li"
   ]
  },
  {
   "cell_type": "code",
   "execution_count": 10,
   "id": "390a4703-235f-4f58-8d49-5f3c5d9caef4",
   "metadata": {},
   "outputs": [
    {
     "data": {
      "text/plain": [
       "[99, 77, 12, 6, 15, 20, 25, 100, 200, 300]"
      ]
     },
     "execution_count": 10,
     "metadata": {},
     "output_type": "execute_result"
    }
   ],
   "source": [
    "li[0]=99\n",
    "li[1]=77\n",
    "li"
   ]
  },
  {
   "cell_type": "code",
   "execution_count": 11,
   "id": "a134f70f-8ac1-4215-8123-6c9cda498ccd",
   "metadata": {},
   "outputs": [
    {
     "data": {
      "text/plain": [
       "[77, 12, 6, 20, 25, 100, 200]"
      ]
     },
     "execution_count": 11,
     "metadata": {},
     "output_type": "execute_result"
    }
   ],
   "source": [
    "li.remove(99)#menghapus elemen di dalam list \n",
    "li.remove(300)\n",
    "li.remove(15)\n",
    "li"
   ]
  },
  {
   "cell_type": "code",
   "execution_count": 13,
   "id": "a42ed7f1-c77c-4d63-acd3-e412561d22ad",
   "metadata": {},
   "outputs": [
    {
     "data": {
      "text/plain": [
       "[]"
      ]
     },
     "execution_count": 13,
     "metadata": {},
     "output_type": "execute_result"
    }
   ],
   "source": [
    "li.clear()#Menghapus Semua elemen di dalam list\n",
    "li"
   ]
  },
  {
   "cell_type": "code",
   "execution_count": 15,
   "id": "3d34be93-98c6-42dc-9243-fdfd13ae20ec",
   "metadata": {},
   "outputs": [
    {
     "data": {
      "text/plain": [
       "{'A': 4, 'B': 3, 'C': 2, 'D': 1, 'E': 0}"
      ]
     },
     "execution_count": 15,
     "metadata": {},
     "output_type": "execute_result"
    }
   ],
   "source": [
    "na={'A':4,'B':3,'C':2,'D':1,'E':0}\n",
    "na"
   ]
  },
  {
   "cell_type": "code",
   "execution_count": 16,
   "id": "3648be02-ea51-4e28-ba96-8f746e4eb81d",
   "metadata": {},
   "outputs": [
    {
     "data": {
      "text/plain": [
       "dict_keys(['A', 'B', 'C', 'D', 'E'])"
      ]
     },
     "execution_count": 16,
     "metadata": {},
     "output_type": "execute_result"
    }
   ],
   "source": [
    "na.keys()#Menampilkan Kata Kunci(key) dalam Dictionary"
   ]
  },
  {
   "cell_type": "code",
   "execution_count": 17,
   "id": "75a9ca6b-c468-47be-b9a2-b09c71f35362",
   "metadata": {},
   "outputs": [
    {
     "data": {
      "text/plain": [
       "dict_values([4, 3, 2, 1, 0])"
      ]
     },
     "execution_count": 17,
     "metadata": {},
     "output_type": "execute_result"
    }
   ],
   "source": [
    "na.values()#Menampilkan kata Value dalam Dictionary"
   ]
  },
  {
   "cell_type": "code",
   "execution_count": 18,
   "id": "b1d4eef2-6254-4cae-a9a7-48c95051dce3",
   "metadata": {},
   "outputs": [
    {
     "data": {
      "text/plain": [
       "4"
      ]
     },
     "execution_count": 18,
     "metadata": {},
     "output_type": "execute_result"
    }
   ],
   "source": [
    "na['A']"
   ]
  },
  {
   "cell_type": "code",
   "execution_count": 19,
   "id": "86b49126-0be0-4220-ac12-3685d710ea58",
   "metadata": {},
   "outputs": [
    {
     "data": {
      "text/plain": [
       "3"
      ]
     },
     "execution_count": 19,
     "metadata": {},
     "output_type": "execute_result"
    }
   ],
   "source": [
    "na['B']"
   ]
  },
  {
   "cell_type": "code",
   "execution_count": 20,
   "id": "68444b27-8a04-4bd3-977c-e89ecc52fc49",
   "metadata": {},
   "outputs": [
    {
     "data": {
      "text/plain": [
       "2"
      ]
     },
     "execution_count": 20,
     "metadata": {},
     "output_type": "execute_result"
    }
   ],
   "source": [
    "na['C']"
   ]
  },
  {
   "cell_type": "code",
   "execution_count": 21,
   "id": "f1138764-d7e4-495d-a55c-7cb802fdbbb1",
   "metadata": {},
   "outputs": [
    {
     "data": {
      "text/plain": [
       "'kucing'"
      ]
     },
     "execution_count": 21,
     "metadata": {},
     "output_type": "execute_result"
    }
   ],
   "source": [
    "kamus={'mouse':'tikus','cat':'kucing'}\n",
    "kamus['cat']"
   ]
  },
  {
   "cell_type": "code",
   "execution_count": 22,
   "id": "db6fe139-bf85-4049-87aa-931026ec4525",
   "metadata": {},
   "outputs": [
    {
     "data": {
      "text/plain": [
       "dict_keys(['mouse', 'cat'])"
      ]
     },
     "execution_count": 22,
     "metadata": {},
     "output_type": "execute_result"
    }
   ],
   "source": [
    "kamus.keys()\n"
   ]
  },
  {
   "cell_type": "code",
   "execution_count": 23,
   "id": "a6258903-0014-432c-9ebd-dcc213f78c4d",
   "metadata": {},
   "outputs": [
    {
     "data": {
      "text/plain": [
       "dict_values(['tikus', 'kucing'])"
      ]
     },
     "execution_count": 23,
     "metadata": {},
     "output_type": "execute_result"
    }
   ],
   "source": [
    "kamus.values()"
   ]
  },
  {
   "cell_type": "code",
   "execution_count": 24,
   "id": "2c0f7e8f-6245-4177-bbdb-32520f3f786a",
   "metadata": {},
   "outputs": [
    {
     "data": {
      "text/plain": [
       "10"
      ]
     },
     "execution_count": 24,
     "metadata": {},
     "output_type": "execute_result"
    }
   ],
   "source": [
    "t=(10,20,30)\n",
    "t[0]"
   ]
  },
  {
   "cell_type": "code",
   "execution_count": 25,
   "id": "1aaddfa4-a1e1-4275-ab12-27be9638446e",
   "metadata": {},
   "outputs": [
    {
     "data": {
      "text/plain": [
       "20"
      ]
     },
     "execution_count": 25,
     "metadata": {},
     "output_type": "execute_result"
    }
   ],
   "source": [
    "t[1]"
   ]
  },
  {
   "cell_type": "code",
   "execution_count": 26,
   "id": "5f05673a-43e3-4f0e-88af-7abd830f379a",
   "metadata": {},
   "outputs": [
    {
     "data": {
      "text/plain": [
       "30"
      ]
     },
     "execution_count": 26,
     "metadata": {},
     "output_type": "execute_result"
    }
   ],
   "source": [
    "t[2]"
   ]
  },
  {
   "cell_type": "code",
   "execution_count": 27,
   "id": "a1fea848-1a9d-42c6-94f3-da1bdac27b5d",
   "metadata": {},
   "outputs": [
    {
     "data": {
      "text/plain": [
       "(10, 20, 30)"
      ]
     },
     "execution_count": 27,
     "metadata": {},
     "output_type": "execute_result"
    }
   ],
   "source": [
    "t[-3],t[-2],t[-1]"
   ]
  },
  {
   "cell_type": "code",
   "execution_count": 28,
   "id": "b74cc95e-7c94-4c89-aae4-5ec15f925494",
   "metadata": {},
   "outputs": [
    {
     "data": {
      "text/plain": [
       "3"
      ]
     },
     "execution_count": 28,
     "metadata": {},
     "output_type": "execute_result"
    }
   ],
   "source": [
    "len(t)#Menghitung banyaknya elemen didalam Tuple"
   ]
  },
  {
   "cell_type": "code",
   "execution_count": 29,
   "id": "717fe835-7357-481c-a64d-73c3ff44b01f",
   "metadata": {},
   "outputs": [
    {
     "data": {
      "text/plain": [
       "{10, 20, 30}"
      ]
     },
     "execution_count": 29,
     "metadata": {},
     "output_type": "execute_result"
    }
   ],
   "source": [
    "s=set([10,10,20,30,30,30])\n",
    "s"
   ]
  },
  {
   "cell_type": "code",
   "execution_count": 30,
   "id": "d47b1f1d-730d-4638-85d4-b4d75b07377d",
   "metadata": {},
   "outputs": [
    {
     "data": {
      "text/plain": [
       "3"
      ]
     },
     "execution_count": 30,
     "metadata": {},
     "output_type": "execute_result"
    }
   ],
   "source": [
    "len(s)"
   ]
  },
  {
   "cell_type": "code",
   "execution_count": null,
   "id": "db076a15-48e9-4086-aba7-88553af37a95",
   "metadata": {},
   "outputs": [],
   "source": []
  }
 ],
 "metadata": {
  "kernelspec": {
   "display_name": "Python 3 (ipykernel)",
   "language": "python",
   "name": "python3"
  },
  "language_info": {
   "codemirror_mode": {
    "name": "ipython",
    "version": 3
   },
   "file_extension": ".py",
   "mimetype": "text/x-python",
   "name": "python",
   "nbconvert_exporter": "python",
   "pygments_lexer": "ipython3",
   "version": "3.10.2"
  }
 },
 "nbformat": 4,
 "nbformat_minor": 5
}
