{
 "cells": [
  {
   "cell_type": "code",
   "execution_count": 1,
   "id": "d830f2a0-7d33-4d9f-9c26-1a99c95a5f98",
   "metadata": {},
   "outputs": [
    {
     "name": "stdout",
     "output_type": "stream",
     "text": [
      "1\n",
      "2\n",
      "3\n",
      "4\n",
      "5\n",
      "6\n",
      "7\n",
      "8\n",
      "9\n",
      "10\n"
     ]
    }
   ],
   "source": [
    "# Contoh perulangan dengan while untuk mencetak angka dari [0-4]\n",
    "count = 1        # inisialisasi variabel iterator\n",
    "while count < 11: # kondisi perulangan\n",
    "    print(count)\n",
    "    count += 1   # update iterator, untuk mencegah infinite loop"
   ]
  },
  {
   "cell_type": "code",
   "execution_count": 3,
   "id": "29613c43-3916-431f-b245-b156b413ae56",
   "metadata": {},
   "outputs": [
    {
     "name": "stdin",
     "output_type": "stream",
     "text": [
      "Masukkan nilai n:  5\n"
     ]
    },
    {
     "name": "stdout",
     "output_type": "stream",
     "text": [
      "120\n"
     ]
    }
   ],
   "source": [
    "# Program untuk menghitung nilai faktorial n\n",
    "n = int(input(\"Masukkan nilai n: \"))\n",
    "faktorial = 1       # Variabel untuk menyimpan hasil faktorial\n",
    "i = 1               # Inisialisasi variabel iterator\n",
    "while i<=n:\n",
    "    faktorial *= i\n",
    "    i += 1          # update iterator\n",
    "print(faktorial)"
   ]
  },
  {
   "cell_type": "code",
   "execution_count": 4,
   "id": "887af145-24f2-4562-9103-654c9cc4cd2e",
   "metadata": {},
   "outputs": [
    {
     "name": "stdout",
     "output_type": "stream",
     "text": [
      "Angka = 0\n"
     ]
    },
    {
     "name": "stdin",
     "output_type": "stream",
     "text": [
      "Masukkan Angka:  40\n"
     ]
    },
    {
     "name": "stdout",
     "output_type": "stream",
     "text": [
      "Angka = 40\n"
     ]
    },
    {
     "name": "stdin",
     "output_type": "stream",
     "text": [
      "Masukkan Angka:  10\n"
     ]
    },
    {
     "name": "stdout",
     "output_type": "stream",
     "text": [
      "Angka = 50\n"
     ]
    },
    {
     "name": "stdin",
     "output_type": "stream",
     "text": [
      "Masukkan Angka:  1\n"
     ]
    },
    {
     "name": "stdout",
     "output_type": "stream",
     "text": [
      "Angka berhenti pada jumlah: 51\n"
     ]
    }
   ],
   "source": [
    "# Perulangan dengan break\n",
    "b = 0\n",
    "while True:\n",
    "    print(\"Angka = \"+str(b))\n",
    "    angka = int(input(\"Masukkan Angka: \"))\n",
    "    b += angka\n",
    "    if b>50:\n",
    "        break\n",
    "print(\"Angka berhenti pada jumlah: \"+str(b))"
   ]
  },
  {
   "cell_type": "code",
   "execution_count": 5,
   "id": "eb2c40ba-09ea-4a94-a351-314529ed8ea9",
   "metadata": {},
   "outputs": [
    {
     "name": "stdout",
     "output_type": "stream",
     "text": [
      "2\n",
      "3\n",
      "5\n",
      "7\n",
      "m\n",
      "a\n",
      "t\n",
      "e\n",
      "m\n",
      "a\n",
      "t\n",
      "i\n",
      "k\n",
      "a\n"
     ]
    }
   ],
   "source": [
    "# Perulangan dengan for\n",
    "primes = [2,3,5,7]\n",
    "for prime in primes:\n",
    "    print(prime)\n",
    "    \n",
    "s = 'matematika'\n",
    "for i in s:\n",
    "    print(i)"
   ]
  },
  {
   "cell_type": "code",
   "execution_count": 6,
   "id": "c60ec215-1c2c-42cc-b679-d4a4ddbae942",
   "metadata": {},
   "outputs": [
    {
     "name": "stdout",
     "output_type": "stream",
     "text": [
      "1\n",
      "3\n",
      "5\n",
      "7\n",
      "9\n"
     ]
    }
   ],
   "source": [
    "for i in range(1,10,2):\n",
    "    print(i)"
   ]
  },
  {
   "cell_type": "code",
   "execution_count": 7,
   "id": "103e9721-6733-4239-aafc-08d5525f1478",
   "metadata": {},
   "outputs": [
    {
     "name": "stdout",
     "output_type": "stream",
     "text": [
      "0\n",
      "1\n",
      "2\n",
      "3\n",
      "4\n",
      "5\n",
      "6\n",
      "7\n",
      "8\n",
      "9\n"
     ]
    }
   ],
   "source": [
    "for i in range(100):\n",
    "    if i==10:\n",
    "        break\n",
    "    print(i)"
   ]
  },
  {
   "cell_type": "code",
   "execution_count": 8,
   "id": "8df82ec7-7eac-4d84-b4fd-9167e4ad0b48",
   "metadata": {},
   "outputs": [
    {
     "name": "stdin",
     "output_type": "stream",
     "text": [
      "Masukkan nilai n:  5\n"
     ]
    },
    {
     "name": "stdout",
     "output_type": "stream",
     "text": [
      "20\n"
     ]
    }
   ],
   "source": [
    "n = int(input(\"Masukkan nilai n: \"))\n",
    "sum_even = 0\n",
    "for i in range(0,2*n,2):\n",
    "    sum_even += i\n",
    "print(sum_even)"
   ]
  },
  {
   "cell_type": "markdown",
   "id": "f6cf64f5-3519-4251-950c-7b5a3b090522",
   "metadata": {},
   "source": [
    "\n",
    "\n",
    "Latihan Sebelumnya"
   ]
  },
  {
   "cell_type": "code",
   "execution_count": 9,
   "id": "332d3cec-1995-41be-adb3-e5e6cf695f01",
   "metadata": {},
   "outputs": [
    {
     "name": "stdin",
     "output_type": "stream",
     "text": [
      "Masukkan nilai Anda:  80\n"
     ]
    },
    {
     "name": "stdout",
     "output_type": "stream",
     "text": [
      "Anda lulus ujian! SELAMAT!\n"
     ]
    }
   ],
   "source": [
    "nilai = input(\"Masukkan nilai Anda: \")\n",
    "if int(nilai) >= 70:\n",
    "    print(\"Anda lulus ujian! SELAMAT!\")"
   ]
  },
  {
   "cell_type": "code",
   "execution_count": 10,
   "id": "dcb4d6d9-0a17-4d9e-b2bb-def228e7cf8e",
   "metadata": {},
   "outputs": [
    {
     "name": "stdout",
     "output_type": "stream",
     "text": [
      "Anda lulus ujian! SELAMAT!\n"
     ]
    }
   ],
   "source": [
    "if int(nilai) >= 70:\n",
    "    print(\"Anda lulus ujian! SELAMAT!\")\n",
    "else:\n",
    "    print(\"Anda belum lulus ujian!\")"
   ]
  },
  {
   "cell_type": "code",
   "execution_count": 12,
   "id": "57bfb50a-9d21-4833-b071-00a9314cc6fc",
   "metadata": {},
   "outputs": [
    {
     "name": "stdout",
     "output_type": "stream",
     "text": [
      "Anda lulus ujian! SELAMAT!\n"
     ]
    }
   ],
   "source": [
    "if int(nilai) < 0 or int(nilai) > 100:\n",
    "    print(\"Nilai Anda TIDAK valid\")\n",
    "elif int(nilai) >= 70:\n",
    "    print(\"Anda lulus ujian! SELAMAT!\")\n",
    "else:\n",
    "    print(\"Anda belum lulus ujian!\")"
   ]
  },
  {
   "cell_type": "code",
   "execution_count": null,
   "id": "742dce80-cb74-46e2-afdc-7316aab4ad57",
   "metadata": {},
   "outputs": [],
   "source": []
  }
 ],
 "metadata": {
  "kernelspec": {
   "display_name": "Python 3 (ipykernel)",
   "language": "python",
   "name": "python3"
  },
  "language_info": {
   "codemirror_mode": {
    "name": "ipython",
    "version": 3
   },
   "file_extension": ".py",
   "mimetype": "text/x-python",
   "name": "python",
   "nbconvert_exporter": "python",
   "pygments_lexer": "ipython3",
   "version": "3.10.2"
  }
 },
 "nbformat": 4,
 "nbformat_minor": 5
}
