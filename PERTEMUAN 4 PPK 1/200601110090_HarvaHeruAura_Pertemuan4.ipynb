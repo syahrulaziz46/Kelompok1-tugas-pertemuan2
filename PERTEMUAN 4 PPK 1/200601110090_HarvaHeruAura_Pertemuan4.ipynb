{
 "cells": [
  {
   "cell_type": "code",
   "execution_count": 2,
   "id": "0a30cf6b-3a2a-41b2-852c-b756450218a9",
   "metadata": {},
   "outputs": [
    {
     "name": "stdout",
     "output_type": "stream",
     "text": [
      "1\n",
      "2\n",
      "3\n",
      "4\n",
      "5\n",
      "6\n",
      "7\n",
      "8\n",
      "9\n",
      "10\n"
     ]
    }
   ],
   "source": [
    "# Contoh perulangan dengan while untuk mencetak angkas dari [0-4]\n",
    "count = 1         #inisialisasi variabel iterator\n",
    "while count <11:  # kondisi perulangan \n",
    "    print(count)\n",
    "    count += 1 # update iterator, untuk mencegah infinite loop"
   ]
  },
  {
   "cell_type": "code",
   "execution_count": 4,
   "id": "d26101e8-f40c-48b7-ab8e-05e8e47b69ad",
   "metadata": {},
   "outputs": [
    {
     "name": "stdin",
     "output_type": "stream",
     "text": [
      "Masukkan nilai n:  5\n"
     ]
    },
    {
     "name": "stdout",
     "output_type": "stream",
     "text": [
      "120\n"
     ]
    }
   ],
   "source": [
    "# Program untuk menghitung nilai faktorial n\n",
    "n = int(input(\"Masukkan nilai n: \"))\n",
    "faktorial = 1    # Variabel untuk menyimpan hasil faktorial\n",
    "i = 1            # Inisialisasi variabel iterator\n",
    "while i<=n:\n",
    "    faktorial *= i\n",
    "    i += 1       # Update iterator \n",
    "print(faktorial)"
   ]
  },
  {
   "cell_type": "code",
   "execution_count": 9,
   "id": "48b1a6fb-c9d3-4f0d-bbd8-99bb67870e0d",
   "metadata": {},
   "outputs": [
    {
     "name": "stdout",
     "output_type": "stream",
     "text": [
      "Angka = 0\n"
     ]
    },
    {
     "name": "stdin",
     "output_type": "stream",
     "text": [
      "Masukkan Angka:  40\n"
     ]
    },
    {
     "name": "stdout",
     "output_type": "stream",
     "text": [
      "Angka = 40\n"
     ]
    },
    {
     "name": "stdin",
     "output_type": "stream",
     "text": [
      "Masukkan Angka:  10\n"
     ]
    },
    {
     "name": "stdout",
     "output_type": "stream",
     "text": [
      "Angka = 50\n"
     ]
    },
    {
     "name": "stdin",
     "output_type": "stream",
     "text": [
      "Masukkan Angka:  1\n"
     ]
    },
    {
     "name": "stdout",
     "output_type": "stream",
     "text": [
      "Angka berhenti pada jumlah: 51\n"
     ]
    }
   ],
   "source": [
    "# Perulangan dengan break\n",
    "b = 0\n",
    "while True:\n",
    "    print(\"Angka = \"+str(b))\n",
    "    angka = int(input(\"Masukkan Angka: \"))\n",
    "    b += angka\n",
    "    if b>50:\n",
    "        break\n",
    "print(\"Angka berhenti pada jumlah: \"+str(b))"
   ]
  },
  {
   "cell_type": "code",
   "execution_count": 10,
   "id": "2deadc7b-651c-49a7-8062-fdd04525f49e",
   "metadata": {},
   "outputs": [
    {
     "name": "stdout",
     "output_type": "stream",
     "text": [
      "2\n",
      "3\n",
      "5\n",
      "7\n",
      "m\n",
      "a\n",
      "t\n",
      "e\n",
      "m\n",
      "a\n",
      "t\n",
      "i\n",
      "k\n",
      "a\n"
     ]
    }
   ],
   "source": [
    "# Perulangan dengan for\n",
    "primes = [2,3,5,7]\n",
    "for prime in primes:\n",
    "    print(prime)\n",
    "    \n",
    "s = 'matematika'\n",
    "for i in s:\n",
    "    print(i)"
   ]
  },
  {
   "cell_type": "code",
   "execution_count": 11,
   "id": "cb1d8038-b49a-42ae-a39c-24b5ac348823",
   "metadata": {},
   "outputs": [
    {
     "name": "stdout",
     "output_type": "stream",
     "text": [
      "1\n",
      "3\n",
      "5\n",
      "7\n",
      "9\n"
     ]
    }
   ],
   "source": [
    "for i in range(1,10,2):\n",
    "    print(i)"
   ]
  },
  {
   "cell_type": "code",
   "execution_count": 12,
   "id": "b8d53af2-1674-46b6-bae8-3dd7a19e4345",
   "metadata": {},
   "outputs": [
    {
     "name": "stdin",
     "output_type": "stream",
     "text": [
      "Masukkan nilai n: 5\n"
     ]
    },
    {
     "name": "stdout",
     "output_type": "stream",
     "text": [
      "120\n"
     ]
    }
   ],
   "source": [
    "# Program untuk menghitung faktorial n\n",
    "n = int(input(\"Masukkan nilai n:\" ))\n",
    "faktorial = 1\n",
    "for i in range(1,n+1):\n",
    "    faktorial *= i\n",
    "print(faktorial)"
   ]
  },
  {
   "cell_type": "code",
   "execution_count": null,
   "id": "eb5642f9-d9ae-4a46-a168-f3f5ada6c0ab",
   "metadata": {},
   "outputs": [],
   "source": []
  }
 ],
 "metadata": {
  "kernelspec": {
   "display_name": "Python 3 (ipykernel)",
   "language": "python",
   "name": "python3"
  },
  "language_info": {
   "codemirror_mode": {
    "name": "ipython",
    "version": 3
   },
   "file_extension": ".py",
   "mimetype": "text/x-python",
   "name": "python",
   "nbconvert_exporter": "python",
   "pygments_lexer": "ipython3",
   "version": "3.10.2"
  }
 },
 "nbformat": 4,
 "nbformat_minor": 5
}
