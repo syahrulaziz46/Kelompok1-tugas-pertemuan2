{
 "cells": [
  {
   "cell_type": "code",
   "execution_count": 1,
   "id": "73d95fa1-f988-4c50-92d9-5a37a98304b0",
   "metadata": {},
   "outputs": [
    {
     "name": "stdout",
     "output_type": "stream",
     "text": [
      "Algorithm 2.1 str( )\n"
     ]
    }
   ],
   "source": [
    "print(\"Algorithm 2.1 str( )\")"
   ]
  },
  {
   "cell_type": "code",
   "execution_count": 2,
   "id": "22c9b499-0a72-4cf9-9b44-ccccae36f965",
   "metadata": {},
   "outputs": [
    {
     "data": {
      "text/plain": [
       "int"
      ]
     },
     "execution_count": 2,
     "metadata": {},
     "output_type": "execute_result"
    }
   ],
   "source": [
    ">>> a =12345\n",
    ">>> type ( a )"
   ]
  },
  {
   "cell_type": "code",
   "execution_count": 4,
   "id": "354499c4-a80f-46d0-84b3-694ce8113661",
   "metadata": {},
   "outputs": [
    {
     "data": {
      "text/plain": [
       "str"
      ]
     },
     "execution_count": 4,
     "metadata": {},
     "output_type": "execute_result"
    }
   ],
   "source": [
    ">>> b = str ( a )\n",
    ">>> b'12345'\n",
    ">>> type ( b )"
   ]
  },
  {
   "cell_type": "code",
   "execution_count": 6,
   "id": "51ca26aa-c117-4501-a18e-76470e15f497",
   "metadata": {},
   "outputs": [
    {
     "name": "stdout",
     "output_type": "stream",
     "text": [
      "Algorithm 2.2 int( )\n"
     ]
    }
   ],
   "source": [
    "\n",
    "\n",
    "print(\"Algorithm 2.2 int( )\")"
   ]
  },
  {
   "cell_type": "code",
   "execution_count": 18,
   "id": "c84f0d30-6465-40de-94b9-0d7f874c73e8",
   "metadata": {},
   "outputs": [
    {
     "data": {
      "text/plain": [
       "str"
      ]
     },
     "execution_count": 18,
     "metadata": {},
     "output_type": "execute_result"
    }
   ],
   "source": [
    ">>> a = '12345'\n",
    ">>> type ( a )"
   ]
  },
  {
   "cell_type": "code",
   "execution_count": 20,
   "id": "e064bf0e-7d54-4e5d-a013-311f5360f461",
   "metadata": {},
   "outputs": [
    {
     "data": {
      "text/plain": [
       "int"
      ]
     },
     "execution_count": 20,
     "metadata": {},
     "output_type": "execute_result"
    }
   ],
   "source": [
    "b= int ( a )\n",
    "b= 12345\n",
    "type ( b )"
   ]
  },
  {
   "cell_type": "code",
   "execution_count": 21,
   "id": "8e2f6b23-306d-4600-961c-7c53a5019c31",
   "metadata": {},
   "outputs": [
    {
     "name": "stdout",
     "output_type": "stream",
     "text": [
      "Algorithm 2.3\n"
     ]
    }
   ],
   "source": [
    "\n",
    "print(\"Algorithm 2.3\")"
   ]
  },
  {
   "cell_type": "code",
   "execution_count": 22,
   "id": "ee82219f-00e6-48bc-b0a4-2cd00c46cd3b",
   "metadata": {},
   "outputs": [
    {
     "data": {
      "text/plain": [
       "1"
      ]
     },
     "execution_count": 22,
     "metadata": {},
     "output_type": "execute_result"
    }
   ],
   "source": [
    ">>> int ( True )"
   ]
  },
  {
   "cell_type": "code",
   "execution_count": 45,
   "id": "395cc9e1-289e-437c-861e-b3f437cf72aa",
   "metadata": {},
   "outputs": [
    {
     "data": {
      "text/plain": [
       "0"
      ]
     },
     "execution_count": 45,
     "metadata": {},
     "output_type": "execute_result"
    }
   ],
   "source": [
    ">>> int (False)"
   ]
  },
  {
   "cell_type": "code",
   "execution_count": 24,
   "id": "50255489-6b7e-480e-b60c-ac0a63cdb55a",
   "metadata": {},
   "outputs": [
    {
     "data": {
      "text/plain": [
       "bool"
      ]
     },
     "execution_count": 24,
     "metadata": {},
     "output_type": "execute_result"
    }
   ],
   "source": [
    ">>> a=True\n",
    ">>> type ( a )"
   ]
  },
  {
   "cell_type": "code",
   "execution_count": 25,
   "id": "9281f993-6b9e-4926-8515-40788241ea68",
   "metadata": {},
   "outputs": [
    {
     "data": {
      "text/plain": [
       "1"
      ]
     },
     "execution_count": 25,
     "metadata": {},
     "output_type": "execute_result"
    }
   ],
   "source": [
    ">>> int ( a )"
   ]
  },
  {
   "cell_type": "code",
   "execution_count": 26,
   "id": "ca1560c5-66ee-4a71-872d-476cd9aab796",
   "metadata": {},
   "outputs": [
    {
     "name": "stdout",
     "output_type": "stream",
     "text": [
      "Algorithm 2.4\n"
     ]
    }
   ],
   "source": [
    "\n",
    "print(\"Algorithm 2.4\")"
   ]
  },
  {
   "cell_type": "code",
   "execution_count": 27,
   "id": "357a343e-dbd3-4464-be60-ff19a81d35ae",
   "metadata": {},
   "outputs": [
    {
     "data": {
      "text/plain": [
       "123.456"
      ]
     },
     "execution_count": 27,
     "metadata": {},
     "output_type": "execute_result"
    }
   ],
   "source": [
    ">>> a=123.456\n",
    ">>> a"
   ]
  },
  {
   "cell_type": "code",
   "execution_count": 28,
   "id": "a69d12bb-65b6-4845-b747-b7c0f0ea849a",
   "metadata": {},
   "outputs": [
    {
     "data": {
      "text/plain": [
       "float"
      ]
     },
     "execution_count": 28,
     "metadata": {},
     "output_type": "execute_result"
    }
   ],
   "source": [
    ">>> type (a)"
   ]
  },
  {
   "cell_type": "code",
   "execution_count": 30,
   "id": "24255cfb-01e5-4eec-a474-da126716a344",
   "metadata": {},
   "outputs": [
    {
     "data": {
      "text/plain": [
       "246.912"
      ]
     },
     "execution_count": 30,
     "metadata": {},
     "output_type": "execute_result"
    }
   ],
   "source": [
    ">>> a*2"
   ]
  },
  {
   "cell_type": "code",
   "execution_count": 31,
   "id": "620c9e02-f0f2-4488-8789-058b13321646",
   "metadata": {},
   "outputs": [
    {
     "name": "stdout",
     "output_type": "stream",
     "text": [
      "Algorithm 2.5\n"
     ]
    }
   ],
   "source": [
    "\n",
    "print(\"Algorithm 2.5\")"
   ]
  },
  {
   "cell_type": "code",
   "execution_count": 37,
   "id": "cd6bde78-0acb-4fdc-9a4f-af06e0ef50be",
   "metadata": {},
   "outputs": [
    {
     "data": {
      "text/plain": [
       "0.00089"
      ]
     },
     "execution_count": 37,
     "metadata": {},
     "output_type": "execute_result"
    }
   ],
   "source": [
    ">>> a=8.9e-4\n",
    ">>> a "
   ]
  },
  {
   "cell_type": "code",
   "execution_count": null,
   "id": "697928aa-c22a-47da-b68f-a27b47e8b7cb",
   "metadata": {},
   "outputs": [],
   "source": [
    "\n",
    "print(\"Algorithm 2.6\")"
   ]
  },
  {
   "cell_type": "code",
   "execution_count": 39,
   "id": "793ae091-ede2-4794-9fec-ba1f87e846e6",
   "metadata": {},
   "outputs": [
    {
     "data": {
      "text/plain": [
       "float"
      ]
     },
     "execution_count": 39,
     "metadata": {},
     "output_type": "execute_result"
    }
   ],
   "source": [
    ">>> a= 123.456\n",
    ">>> type (a)"
   ]
  },
  {
   "cell_type": "code",
   "execution_count": 41,
   "id": "e131afb6-15ca-4949-95d1-055cf200528b",
   "metadata": {},
   "outputs": [
    {
     "data": {
      "text/plain": [
       "str"
      ]
     },
     "execution_count": 41,
     "metadata": {},
     "output_type": "execute_result"
    }
   ],
   "source": [
    ">>> b= str (a)\n",
    ">>> b \n",
    "'123.456'\n",
    ">>> type ( b )"
   ]
  },
  {
   "cell_type": "code",
   "execution_count": 43,
   "id": "fd6c6241-7118-4bc8-80e2-c4cf42037d79",
   "metadata": {},
   "outputs": [
    {
     "data": {
      "text/plain": [
       "float"
      ]
     },
     "execution_count": 43,
     "metadata": {},
     "output_type": "execute_result"
    }
   ],
   "source": [
    ">>> c= float (b)\n",
    ">>> c\n",
    "123.456\n",
    ">>> type ( c )"
   ]
  },
  {
   "cell_type": "code",
   "execution_count": 44,
   "id": "2f708fc4-3f38-419e-a869-9919043509ff",
   "metadata": {},
   "outputs": [
    {
     "name": "stdout",
     "output_type": "stream",
     "text": [
      "Algorithm 2.7\n"
     ]
    }
   ],
   "source": [
    "\n",
    "print(\"Algorithm 2.7\")"
   ]
  },
  {
   "cell_type": "code",
   "execution_count": 49,
   "id": "43c4a8cb-c135-42f7-af39-e07109cf3459",
   "metadata": {},
   "outputs": [
    {
     "data": {
      "text/plain": [
       "complex"
      ]
     },
     "execution_count": 49,
     "metadata": {},
     "output_type": "execute_result"
    }
   ],
   "source": [
    ">>> a=-9+17j\n",
    ">>> a\n",
    "(-9+17j)\n",
    ">>> type (a)"
   ]
  },
  {
   "cell_type": "code",
   "execution_count": 50,
   "id": "4265a25f-1136-400c-aec7-85c09a9dce80",
   "metadata": {},
   "outputs": [
    {
     "data": {
      "text/plain": [
       "-9.0"
      ]
     },
     "execution_count": 50,
     "metadata": {},
     "output_type": "execute_result"
    }
   ],
   "source": [
    ">>> a.real"
   ]
  },
  {
   "cell_type": "code",
   "execution_count": 51,
   "id": "b67ca070-2abf-40cc-bfc5-e0183bec9969",
   "metadata": {},
   "outputs": [
    {
     "data": {
      "text/plain": [
       "17.0"
      ]
     },
     "execution_count": 51,
     "metadata": {},
     "output_type": "execute_result"
    }
   ],
   "source": [
    ">>> a.imag"
   ]
  },
  {
   "cell_type": "code",
   "execution_count": 52,
   "id": "2061973c-6f9c-46e8-b6b3-c4b7171c4290",
   "metadata": {},
   "outputs": [
    {
     "name": "stdout",
     "output_type": "stream",
     "text": [
      "Algorithm 2.8\n"
     ]
    }
   ],
   "source": [
    "\n",
    "print(\"Algorithm 2.8\")"
   ]
  },
  {
   "cell_type": "code",
   "execution_count": 54,
   "id": "a4f49555-2b48-4fde-9723-c04450f7545d",
   "metadata": {},
   "outputs": [
    {
     "data": {
      "text/plain": [
       "'PyQt'"
      ]
     },
     "execution_count": 54,
     "metadata": {},
     "output_type": "execute_result"
    }
   ],
   "source": [
    ">>> s1 = 'PyQt'\n",
    ">>> s1"
   ]
  },
  {
   "cell_type": "code",
   "execution_count": 55,
   "id": "4d1a9557-47bb-40d5-a765-01f846e2df8f",
   "metadata": {},
   "outputs": [
    {
     "data": {
      "text/plain": [
       "'Python'"
      ]
     },
     "execution_count": 55,
     "metadata": {},
     "output_type": "execute_result"
    }
   ],
   "source": [
    ">>> s2 =\"Python\"\n",
    ">>> s2"
   ]
  },
  {
   "cell_type": "code",
   "execution_count": 61,
   "id": "eb5c0fdf-096a-4e6b-8fc8-2183f1edcdd4",
   "metadata": {},
   "outputs": [
    {
     "data": {
      "text/plain": [
       "'Pemrograman GUI dengan Python dan PyQt'"
      ]
     },
     "execution_count": 61,
     "metadata": {},
     "output_type": "execute_result"
    }
   ],
   "source": [
    ">>> s3 = '''Pemrograman GUI dengan Python dan PyQt'''\n",
    ">>> s3 ='\\nPemrograman GUI\\ndengan python dan PyQt\\n'\n",
    ">>> s4 = \"\"\"Pemrograman GUI dengan Python dan PyQt\"\"\"\n",
    ">>> s4\n"
   ]
  },
  {
   "cell_type": "code",
   "execution_count": 63,
   "id": "6d1d284c-8db3-48f2-8632-83450421395d",
   "metadata": {},
   "outputs": [
    {
     "data": {
      "text/plain": [
       "'python'"
      ]
     },
     "execution_count": 63,
     "metadata": {},
     "output_type": "execute_result"
    }
   ],
   "source": [
    ">>> b= 'python'\n",
    ">>> b"
   ]
  },
  {
   "cell_type": "code",
   "execution_count": 64,
   "id": "982c05ff-7d1b-469f-acde-7f2a45c853b0",
   "metadata": {},
   "outputs": [
    {
     "data": {
      "text/plain": [
       "'Python'"
      ]
     },
     "execution_count": 64,
     "metadata": {},
     "output_type": "execute_result"
    }
   ],
   "source": [
    ">>> b=b.capitalize ()\n",
    ">>> b"
   ]
  },
  {
   "cell_type": "code",
   "execution_count": 65,
   "id": "037c7f18-4239-4d03-aa02-f0e534bb6b89",
   "metadata": {},
   "outputs": [
    {
     "data": {
      "text/plain": [
       "'PYTHON'"
      ]
     },
     "execution_count": 65,
     "metadata": {},
     "output_type": "execute_result"
    }
   ],
   "source": [
    ">>> b=b.upper()\n",
    ">>> b"
   ]
  },
  {
   "cell_type": "code",
   "execution_count": 66,
   "id": "df0a0576-9f62-4410-ba4f-0e90fea150c8",
   "metadata": {},
   "outputs": [
    {
     "data": {
      "text/plain": [
       "'python'"
      ]
     },
     "execution_count": 66,
     "metadata": {},
     "output_type": "execute_result"
    }
   ],
   "source": [
    ">>> b=b.lower ()\n",
    ">>> b"
   ]
  },
  {
   "cell_type": "code",
   "execution_count": 67,
   "id": "c34b479f-2a34-4aea-91ef-ff8b163fa929",
   "metadata": {},
   "outputs": [
    {
     "data": {
      "text/plain": [
       "False"
      ]
     },
     "execution_count": 67,
     "metadata": {},
     "output_type": "execute_result"
    }
   ],
   "source": [
    ">>> b.isupper ()\n"
   ]
  },
  {
   "cell_type": "code",
   "execution_count": 68,
   "id": "6e543af9-5545-4e5c-8d8a-cdd6b1ef1e58",
   "metadata": {},
   "outputs": [
    {
     "data": {
      "text/plain": [
       "True"
      ]
     },
     "execution_count": 68,
     "metadata": {},
     "output_type": "execute_result"
    }
   ],
   "source": [
    ">>> b.islower ()"
   ]
  },
  {
   "cell_type": "code",
   "execution_count": 69,
   "id": "d9447542-49dc-4ca8-a2c7-bc871802d403",
   "metadata": {},
   "outputs": [
    {
     "data": {
      "text/plain": [
       "'saya  makan ayam'"
      ]
     },
     "execution_count": 69,
     "metadata": {},
     "output_type": "execute_result"
    }
   ],
   "source": [
    ">>> s =' '.join (['saya ', 'makan' , 'ayam'])\n",
    ">>> s"
   ]
  },
  {
   "cell_type": "code",
   "execution_count": 70,
   "id": "4be030cb-cc20-47b0-a3af-2310222a9178",
   "metadata": {},
   "outputs": [
    {
     "data": {
      "text/plain": [
       "True"
      ]
     },
     "execution_count": 70,
     "metadata": {},
     "output_type": "execute_result"
    }
   ],
   "source": [
    ">>> nim= '200601110109'\n",
    ">>> nim.isnumeric ()\n"
   ]
  },
  {
   "cell_type": "code",
   "execution_count": 71,
   "id": "e86f338b-a84b-4667-b827-d7f05c8446f9",
   "metadata": {},
   "outputs": [
    {
     "data": {
      "text/plain": [
       "True"
      ]
     },
     "execution_count": 71,
     "metadata": {},
     "output_type": "execute_result"
    }
   ],
   "source": [
    ">>> nim= '200601110109'\n",
    ">>> nim.isnumeric ()"
   ]
  },
  {
   "cell_type": "code",
   "execution_count": null,
   "id": "8a882c7c-6b6e-4943-bf5e-32dc5bd2ae09",
   "metadata": {},
   "outputs": [],
   "source": []
  }
 ],
 "metadata": {
  "kernelspec": {
   "display_name": "Python 3 (ipykernel)",
   "language": "python",
   "name": "python3"
  },
  "language_info": {
   "codemirror_mode": {
    "name": "ipython",
    "version": 3
   },
   "file_extension": ".py",
   "mimetype": "text/x-python",
   "name": "python",
   "nbconvert_exporter": "python",
   "pygments_lexer": "ipython3",
   "version": "3.10.2"
  }
 },
 "nbformat": 4,
 "nbformat_minor": 5
}
